{
 "cells": [
  {
   "cell_type": "code",
   "execution_count": null,
   "id": "39e81682-e82d-43c7-8261-7eb0d354cd70",
   "metadata": {},
   "outputs": [],
   "source": [
    "!python companylistgetter.py"
   ]
  },
  {
   "cell_type": "code",
   "execution_count": null,
   "id": "050c2e59-b4bc-46c3-8ae3-e71af7a8b500",
   "metadata": {},
   "outputs": [],
   "source": [
    "!python timeseriesdatagetter.py"
   ]
  }
 ],
 "metadata": {
  "kernelspec": {
   "display_name": "Python 3 (ipykernel)",
   "language": "python",
   "name": "python3"
  },
  "language_info": {
   "codemirror_mode": {
    "name": "ipython",
    "version": 3
   },
   "file_extension": ".py",
   "mimetype": "text/x-python",
   "name": "python",
   "nbconvert_exporter": "python",
   "pygments_lexer": "ipython3",
   "version": "3.11.7"
  }
 },
 "nbformat": 4,
 "nbformat_minor": 5
}
